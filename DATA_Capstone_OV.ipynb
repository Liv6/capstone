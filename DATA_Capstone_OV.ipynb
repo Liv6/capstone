{
 "cells": [
  {
   "cell_type": "markdown",
   "id": "ee10d1f6-0df0-4391-b738-1a0e7b325bd8",
   "metadata": {},
   "source": [
    "## DATA 4950 Capstone\n",
    "### Olivia VonCanon\n",
    "<br>__Main Objectives:__\n",
    "\n",
    "1. Build a function that takes user input and a PDF file, converts and cleans the file, then creates a summary using an LLM.\n",
    "\n",
    "2. Build an interface with gradio that has a chatbox, place to upload files, and prompt examples.\n",
    "\n",
    "3. Analyze how well the model performs through different tests.\n",
    "\n",
    "<br>\n",
    "\n",
    "Github Link: \n",
    "\n",
    "\n",
    "GRadio Permanent Link: https://huggingface.co/spaces/nonacnov/capstone"
   ]
  },
  {
   "cell_type": "markdown",
   "id": "09af9df2-af7a-41f1-8b3b-9a538c7f0ac1",
   "metadata": {},
   "source": [
    "### 1 Installing and Importing Libraries\n",
    "\n",
    "Before we begin, we need to make sure we have all the necessary libraries installed. We need to install gradio to build the interface, groq to access the model, PyPDF2 to extract the PDF text, and nltk to clean the PDF."
   ]
  },
  {
   "cell_type": "code",
   "execution_count": null,
   "id": "722e8ba0",
   "metadata": {
    "scrolled": true
   },
   "outputs": [],
   "source": [
    "pip install gradio groq PyPDF2 nltk"
   ]
  },
  {
   "cell_type": "code",
   "execution_count": null,
   "id": "924bc26e-6864-4103-ab8f-ef312141bb88",
   "metadata": {},
   "outputs": [],
   "source": [
    "nltk.download('stopwords') #also need to download stopwords for cleaning PDFs"
   ]
  },
  {
   "cell_type": "code",
   "execution_count": 9,
   "id": "71e1d299-ccac-4842-9f8d-d047d5597b01",
   "metadata": {},
   "outputs": [],
   "source": [
    "import os\n",
    "from groq import Groq\n",
    "import gradio as gr\n",
    "from PyPDF2 import PdfReader \n",
    "import re\n",
    "import nltk\n",
    "from nltk.corpus import stopwords"
   ]
  },
  {
   "cell_type": "markdown",
   "id": "c31d4d17-5eea-40e1-91f4-752dd0e1f30b",
   "metadata": {},
   "source": [
    "<br>"
   ]
  },
  {
   "cell_type": "markdown",
   "id": "67a08abd-5867-4837-b0fe-4aea1893a433",
   "metadata": {},
   "source": [
    "### 2 Groq API\n",
    "To access the Groq model, I had to get an API key from their website. Originally I was going to use an OpenAI model, but I could not get it to work correctly. I don't think the API was even available when I started planning out the project, but it was super easy to get working."
   ]
  },
  {
   "cell_type": "code",
   "execution_count": 10,
   "id": "7c8745d5-b12c-46e5-808a-32c418345b36",
   "metadata": {},
   "outputs": [],
   "source": [
    "os.environ['GROQ_API_KEY'] = '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'\n",
    "client = Groq(api_key=os.environ.get(\"GROQ_API_KEY\"))"
   ]
  },
  {
   "cell_type": "markdown",
   "id": "f51bf44f-7539-4bfe-bdc8-c2854710ab45",
   "metadata": {},
   "source": [
    "<br>"
   ]
  },
  {
   "cell_type": "markdown",
   "id": "155aa56e-5ca1-4797-82bd-62112538c7be",
   "metadata": {},
   "source": [
    "### 3 Creating Function to Summarize PDF Based on User Prompt"
   ]
  },
  {
   "cell_type": "markdown",
   "id": "5a4dafa4-4b12-4de5-8fde-baa238159cd5",
   "metadata": {},
   "source": [
    "Now we need a function to do all the preprocessing and to generate the summary. I could not get this working with full PDFs. It would get to 50 seconds of processing time then send back an error. I am using only the first 3 pages and last 3 pages to generate the summaries."
   ]
  },
  {
   "cell_type": "code",
   "execution_count": 14,
   "id": "7e2619bb-dea6-45b4-a179-a1991a6f6be4",
   "metadata": {},
   "outputs": [],
   "source": [
    "def summarize(file, prompt):\n",
    "\n",
    "    #preprocess PDF file\n",
    "    #extracting text from all pages\n",
    "    reader = PdfReader(file)\n",
    "    num_pages = len(reader.pages)\n",
    "\n",
    "    all_text = []\n",
    "\n",
    "    #extract text from the first three pages\n",
    "    for page_number in range(min(3, num_pages)):\n",
    "        page = reader.pages[page_number]\n",
    "        text = page.extract_text()\n",
    "        all_text.append(text)\n",
    "\n",
    "    #extract text from the last three pages\n",
    "    for page_number in range(max(0, num_pages - 3), num_pages):\n",
    "        page = reader.pages[page_number]\n",
    "        text = page.extract_text()\n",
    "        all_text.append(text)\n",
    "        \n",
    "    full_text = ' '.join(all_text)\n",
    "    \n",
    "    #tokenization\n",
    "    tokens = full_text.split()\n",
    "\n",
    "    #removing punctuation after tokenization\n",
    "    cleaned_tokens = [re.sub(r'[^\\w\\s]', '', token) for token in tokens]\n",
    "\n",
    "    #removing empty tokens\n",
    "    cleaned_tokens = [token for token in cleaned_tokens if token]\n",
    "    \n",
    "    #removing stopwords\n",
    "    stop_words = set(stopwords.words('english'))\n",
    "    cleaned_tokens = [token for token in cleaned_tokens if token.lower() not in stop_words]\n",
    "    \n",
    "    #concatenate prompt and text\n",
    "    input_text = prompt + \" \" + full_text\n",
    "\n",
    "    #summarize using groq model\n",
    "    chat_completion = client.chat.completions.create(\n",
    "    messages=[{\n",
    "        \"role\": \"user\",\n",
    "        \"content\": input_text}],\n",
    "        model=\"Mixtral-8x7b-32768\")\n",
    "\n",
    "    summarize = chat_completion.choices[0].message.content\n",
    "    return summarize"
   ]
  },
  {
   "cell_type": "markdown",
   "id": "e7f481ea-2e9f-46dc-b5c2-243d28fed045",
   "metadata": {},
   "source": [
    "<br>"
   ]
  },
  {
   "cell_type": "markdown",
   "id": "28274f1f-b2a5-4a6e-8a3a-cb5f25d0edbf",
   "metadata": {},
   "source": [
    "### 4 Building the Interface with gradio\n",
    "\n",
    "Now we get to build the interface. We need a place for users to upload their files, a textbox to show the output, example buttons, a textbox to type the input, and a submit button. This step took the longest because it was all new to me."
   ]
  },
  {
   "cell_type": "code",
   "execution_count": 17,
   "id": "4966fd94-68e0-4274-b16b-ad4fd8851ecf",
   "metadata": {
    "scrolled": true
   },
   "outputs": [
    {
     "name": "stdout",
     "output_type": "stream",
     "text": [
      "Running on local URL:  http://127.0.0.1:7933\n",
      "\n",
      "To create a public link, set `share=True` in `launch()`.\n"
     ]
    },
    {
     "data": {
      "text/html": [
       "<div><iframe src=\"http://127.0.0.1:7933/\" width=\"100%\" height=\"500\" allow=\"autoplay; camera; microphone; clipboard-read; clipboard-write;\" frameborder=\"0\" allowfullscreen></iframe></div>"
      ],
      "text/plain": [
       "<IPython.core.display.HTML object>"
      ]
     },
     "metadata": {},
     "output_type": "display_data"
    },
    {
     "data": {
      "text/plain": []
     },
     "execution_count": 17,
     "metadata": {},
     "output_type": "execute_result"
    }
   ],
   "source": [
    "#have to define prompt box first to have it under the examples\n",
    "prompt = gr.Textbox(placeholder=\"Pick one of the examples or type your prompt...\", label = \"Prompt Input\", lines=8)\n",
    "\n",
    "with gr.Blocks(theme=gr.themes.Soft(primary_hue=\"purple\")) as iface:\n",
    "    #place to upload files; I have it to only show pdfs files, but someone could still upload non-PDF files it would just send back an error\n",
    "    file = gr.File(label=\"Upload PDF\", file_types=[\"pdf\"])\n",
    "\n",
    "    #box for the output\n",
    "    sum_box = gr.Textbox(placeholder=\"Your summary will appear here...\", label = \"Summary Output\", lines=8, interactive= False)\n",
    "\n",
    "    #examples for users to use, when clicked it fills in the prompt textbox\n",
    "    examples = gr.Examples(examples=[\n",
    "        \"Write a two-paragraph summary of this PDF document, emphasizing the key points and conclusions\"\n",
    "      , \"Write a one-paragraph summary of the key findings or arguments presented in this PDF\"\n",
    "      , \"Provide a bullet-point outline of the key insights from this PDF\"\n",
    "      , \"Write a summary tweet (280 characters) based on the main points of this PDF\"], inputs=[prompt])\n",
    "\n",
    "    #showing prompt textbox and making button to submit\n",
    "    prompt.render()\n",
    "    send = gr.Button(\"Send\")\n",
    "\n",
    "    #I could not figure out how to align the github link to the right and it bugs me\n",
    "    with gr.Row():\n",
    "        gr.Markdown(\"Made by Olivia VonCanon\")\n",
    "        link = \"[View on Github](https://github.com/Liv6)\"\n",
    "        gr.Markdown(link)\n",
    "\n",
    "    #calling the function if user pushes send button\n",
    "    send.click(fn=summarize, inputs=[file, prompt], outputs=sum_box)\n",
    "    \n",
    "iface.launch()"
   ]
  },
  {
   "cell_type": "markdown",
   "id": "1b4c27b7-5216-4217-ba0c-85e36ab134d1",
   "metadata": {},
   "source": [
    "<br>"
   ]
  },
  {
   "cell_type": "markdown",
   "id": "d14c8e3b-16a4-4941-b653-d8bcebf928de",
   "metadata": {},
   "source": [
    "### 5 Testing PDFs"
   ]
  },
  {
   "cell_type": "markdown",
   "id": "cdb6f0e4-09e6-42c3-bbb1-7753c62616a5",
   "metadata": {},
   "source": [
    "Now the interface is built. With it you can keep hitting submit to generate new summaries, resubmit a different prompt, or even click the x on the top right of the file upload and start over. Now we can see how well the model works at building summaries.\n",
    "\n",
    "\n",
    "Using the PDF \"Auditing the Use of Language Models to Guide Hiring Decisions,\" I tested the model at each stage of preprocessing. First after only extracting the text from the PDF, then after tokenization, then after removing punctuation, then after removing stop words. The results are below:"
   ]
  },
  {
   "cell_type": "markdown",
   "id": "17d2d6c8-199f-45f2-bdd6-5e712dfb8ba5",
   "metadata": {},
   "source": [
    "#### Summary with raw text\n",
    "\n",
    "The use of large language models (LLMs) in hiring decisions has gained popularity, prompting concerns over bias and discrimination. This study adapts correspondence experiments, a method commonly used in behavioral sciences to detect discrimination in human decisions, to audit LLMs for potential race and gender bias. The authors find evidence of moderate race and gender effects in algorithmic ratings of job applicants. However, they also highlight limitations of this approach, including the need for large and diverse datasets to ensure accurate results. Additionally, the authors discuss the regulatory landscape, emphasizing the need for clear guidelines on AI auditing. Overall, the study suggests that while correspondence experiments can serve as a useful assessment strategy, there are still challenges to overcome in order to effectively audit LLMs for bias and discrimination."
   ]
  },
  {
   "cell_type": "markdown",
   "id": "02a9cb22-2356-4e05-886a-03213a4386aa",
   "metadata": {},
   "source": [
    "#### Summary with tokenization\n",
    "\n",
    "The article \"Auditing the Use of Language Models to Guide Hiring Decisions\" by Johann D. Gaebler, Sharad Goel, Aziz Huq, and Prasanna Tambe investigates the use of correspondence experiments to audit large language models (LLMs) for potential race and gender bias in hiring decisions. LLMs are machine learning models that can perform tasks as well as human experts, and their use in hiring has grown rapidly. However, there is little guidance on how to audit these algorithms for bias. The authors use correspondence experiments, which involve manipulating elements of application materials that suggest an applicant's demographic traits, to measure the extent to which race and gender impact decisions made by several state-of-the-art LLMs. They find evidence of moderate race and gender disparities in the algorithmic ratings. The authors conclude that correspondence experiments can serve as a useful tool for auditing LLMs, but they also discuss some key limitations of this approach."
   ]
  },
  {
   "cell_type": "markdown",
   "id": "63971f2a-276a-4f37-ae18-38b5d7fa3c6d",
   "metadata": {},
   "source": [
    "#### Summary with tokenization, and no punctuation\n",
    "\n",
    "The article \"Auditing the Use of Language Models to Guide Hiring Decisions\" by Gaebler, Goel, Huq, and Tambe examines the use of large language models (LLMs) in hiring decisions and the potential for bias in these algorithms. The researchers used correspondence experiments, which involve manipulating elements of job application materials that suggest an applicant's demographic traits, to audit candidate assessments produced by several state-of-the-art LLMs. They found evidence of moderate race and gender disparities in the algorithmic ratings, which were largely robust to varying the types of application material input to the models and the framing of the task. The researchers note that while correspondence experiments can be a useful tool for auditing LLMs, they have limitations and other methods for identifying potentially biased decision making in LLMs should also be considered. The authors highlight the need for ongoing research in this area to ensure that LLMs are fair and unbiased in their hiring recommendations."
   ]
  },
  {
   "cell_type": "markdown",
   "id": "7cebdad8-a900-495a-9d0a-38473cf4ca1e",
   "metadata": {},
   "source": [
    "#### Summary with tokenization, no punctuation, and no stop words\n",
    "\n",
    "The paper \"Auditing the Use of Language Models to Guide Hiring Decisions\" by Gaebler et al. examines the use of large language models (LLMs) in hiring decisions and proposes correspondence experiments as a method for auditing these algorithms for potential race and gender bias. The authors applied this method to several state-of-the-art LLMs using a novel corpus of job applications for K-12 teaching positions. They found evidence of moderate race and gender disparities in the algorithmic ratings, illustrating the potential of correspondence experiments for algorithmic audits. However, they also discussed some limitations of this approach, including the need for careful consideration of context and decision thresholds. The paper highlights the importance of developing tools for identifying and mitigating bias in AI systems as they become increasingly prevalent in hiring decisions."
   ]
  },
  {
   "cell_type": "markdown",
   "id": "223c56e3-03b2-472e-ad89-58ca52854c03",
   "metadata": {},
   "source": [
    "I can't really tell a difference between each of the summaries. I think they get slightly more specific at each stage, but that may just be coincidence. "
   ]
  },
  {
   "cell_type": "markdown",
   "id": "a1b59de7-aa04-4c57-9a06-54e0521ec047",
   "metadata": {},
   "source": [
    "### 6 Testing other Groq models\n",
    "\n",
    "Just out of curiosity I wanted to test the other Groq models available to see how they perform and to see how they differ. The one used above is \"Mixtral-8x7b-32768.\" By just changing the model variable in the summarize function, we can use the other models. Here I used the same one-paragraph prompt and the same PDF as before, with full preprocessing done."
   ]
  },
  {
   "cell_type": "markdown",
   "id": "74532d8d-bb5a-48ac-9d3b-c7e2e43432ee",
   "metadata": {},
   "source": [
    "#### Gemma-7b-It Model\n",
    "\n",
    "Methodology:\n",
    "\n",
    "The researchers employed \"correspondence experiments,\" a widely used technique to detect discrimination in human judgments. They manipulated application materials to alter apparent race and gender without altering the actual demographic information of the applicants. The results showed evidence of moderate race and gender disparities in the algorithmic assessments produced by several state-of-the-art LLMs.\n",
    "Key Findis:\n",
    "\n",
    "- LLMs exhibit moderate levels of bias in hiring recommendations.\n",
    "- The bias persists even when names, pronouns, and other obvious indicators of race and gender are redacted from the application materials.\n",
    "- Blinding the models to applicant information slightly reduces but does not eliminateias.\n",
    "\n",
    "Policy Impcations:\n",
    "\n",
    "The paper suggests that existing regulatory attempts to audit algorithms are insufficient for LLMs and calls for further guidance and standards in is area.\n",
    "\n",
    "Limitations:\n",
    "\n",
    "- Correspondence experiments may not be suitable for assessing all types of algorithmic bias.\n",
    "- LLMs may produce biased recommendations even when trained on unbiased data.\n",
    "- Ethical concerns surrounding the use of LLMs require careful consideration."
   ]
  },
  {
   "cell_type": "markdown",
   "id": "ae6a4c5d-6322-476b-ad62-39d4e12e3082",
   "metadata": {},
   "source": [
    "#### Llama3-70b-8192 Model\n",
    "\n",
    "Here is a one-paragraph summary of the key findings and arguments presented in the paper \"Auditing the Use of Language Models to Guide Hiring Decisions\":\r\n",
    "\r\n",
    "The authors propose and investigate a method for auditing language models (LLMs) for bias in hiring decisions, using correspondence experiments to detect discrimination. They apply this method to several state-of-the-art LLMs, using a novel corpus of job applications to K-12 teaching positions, and find evidence of moderate race and gender disparities in the algorithmic ratings. The results suggest that LLMs may produce biased hiring recommendations, which can have significant implications for employment discrimination law. The authors also discuss the limitations of their approach and the need for further research on auditing algorithms for bias. The study contributes to the ongoing debate about the ethical and legal implications of using AI in hiring and highlights the importance of developing effective methods for identifying and mitigating algorithmic bias."
   ]
  },
  {
   "cell_type": "markdown",
   "id": "e12b52ed-4af0-41ac-ba1d-2c9733c074a9",
   "metadata": {},
   "source": [
    "#### Llama3-8b-8192 Model\n",
    "\n",
    "Here is a summary of the key findings and arguments presented in the PDF \"Auditing the Use of Language Models to Guide Hiring Decisions\":\r\n",
    "\r\n",
    "The authors propose and investigate a method for auditing algorithms, specifically large language models (LLMs), for potential bias in hiring decisions. They apply a correspondence experiment approach, which experimentally manipulates elements of submitted application materials that suggest an applicant's demographic traits (e.g., race and gender). The authors find evidence of moderate race and gender disparities in the algorithmic ratings of job applicants by several state-of-the-art LLMs. They also discuss the importance of auditing algorithms for bias and highlight the need for more research on this topic.\r\n",
    "\r\n",
    "Key findings include:\r\n",
    "\r\n",
    "1. Moderately strong evidence of race and gender effects in LLM hiring recommendations.\r\n",
    "2. Results are robust across various types of application materials and framing of the task to the LLMs.\r\n",
    "3. Blinding (removing obvious indicators of race and gender) does not greatly reduce the adverse impact ratio.\r\n",
    "4. Predictive models can still accurately predict race and gender from redacted application materials.\r\n",
    "\r\n",
    "The authors conclude that correspondence experiments can be a useful approach for auditing LLMs for potential bias in high-stakes decision settings like HR. They also highlight the importance of addressing algorithmic bias in hiring decisions and the need for more research on this topic."
   ]
  },
  {
   "cell_type": "markdown",
   "id": "8abbda51-a0c9-4184-b13b-382e0608ea9c",
   "metadata": {},
   "source": [
    "**Testing Character Limits**\n",
    "\n",
    "The models are pretty good at limiting the number of paragraphs. It did occationally send one, three, or four paragraphs when asking for two. The Gemma Model sometimes sends in the format you ask for, but the majority of the time it sends it in the same bullet point format shown above. I wanted to also test the tweet prompt next to see how well the models are with limiting characters. I ran each model 15 times with 3 different prompts. \n",
    "\n",
    "Prompt 1 was \"Write a summary tweet (280 characters) based on the main points of this PDF\" <br>\n",
    "Prompt 2 was \"Write a summary tweet based on the main points of this PDF no more than 280 characters\" <br>\n",
    "Prompt 3 was \"Write a summary tweet based on the main points of this PDF no more than 280 characters (hashtags, emojis, and spaces counted in count)\""
   ]
  },
  {
   "cell_type": "markdown",
   "id": "a41b51d4-c721-4361-baef-7a2b54c8bcfc",
   "metadata": {},
   "source": [
    "|              |         | **Mixtral-8x7b-32768** | **Gemma-7b-It** | **Llama3-70b-8192** | **Llama3-8b-8192** |\r\n",
    "|:------------:|:-------:|:----------------------:|:---------------:|:-------------------:|:------------------:|\r\n",
    "| **Prompt 1** |   High  |           829          |       1394      |         359         |         313        |\r\n",
    "|              |   Low   |           272          |       278       |         261         |         227        |\r\n",
    "|              | Average |         469.53         |      802.33     |        296.73       |       277.67       |\r\n",
    "| **Prompt 2** |   High  |           495          |       1027      |         313         |         316        |\r\n",
    "|              |   Low   |           249          |       310       |         189         |         198        |\r\n",
    "|              | Average |         372.33         |      733.4      |        269.33       |        258.2       |\r\n",
    "| **Prompt 3** |   High  |           389          |       1016      |         335         |         403        |\r\n",
    "|              |   Low   |           262          |       303       |         228         |         234        |\r\n",
    "|              | Average |         304.26         |      564.06     |         277         |       294.27       |3 |"
   ]
  },
  {
   "cell_type": "markdown",
   "id": "efa9118b-5224-4e4c-9287-5c3eea36cbbc",
   "metadata": {},
   "source": [
    "The two Llama3 Models seem to do the best with getting the character count closest to 280. The last prompt seemed to work the best overall. I found that it was more consistent when also asking it to say how many characters are in the output. One output that I thought was interesting said \"The tweet is 277 characters, which is 3 characters over the limit of 280. You can modify it to fit within the limit if needed,\" the output was 234 characters long. Another interesting output was when it gave me a twitter picture link, but the picture did not exist."
   ]
  },
  {
   "cell_type": "markdown",
   "id": "dd25835a-6561-4c5e-87f9-3e1296be861d",
   "metadata": {},
   "source": [
    "**Testing Runtimes**\n",
    "\n",
    "I also wanted to test the runtimes of each model. For all 4 models I ran the two-paragraph prompt with a 5 seconds of rest in-between 15 times."
   ]
  },
  {
   "cell_type": "code",
   "execution_count": 8,
   "id": "f543622c-6380-4b2c-ad48-c5398792ec32",
   "metadata": {},
   "outputs": [
    {
     "data": {
      "image/png": "[encoded data removed]",
      "text/plain": [
       "<Figure size 1000x800 with 4 Axes>"
      ]
     },
     "metadata": {},
     "output_type": "display_data"
    }
   ],
   "source": [
    "#making 2x2 graphs for 4 models with runtimes on y-axis and attempt on x-axis\n",
    "import matplotlib.pyplot as plt\n",
    "\n",
    "data = {\n",
    "    \"Mixtral-8x7b-32768\": [(1, 2), (2, 1.6), (3, 4.8), (4, 2), (5, 13.1), (6, 13.9), (7, 29.2), (8, 32.7), (9, 33.4), (10, 38.3), (11, 32.4), (12, 24.6), (13, 38.9), (14, 32.9), (15, 33.4)],\n",
    "    \"Gemma-7b-It\": [(1, 2.7), (2, 2.4), (3, 2.6), (4, 2.8), (5, 2.5), (6, 2.9), (7, 3.3), (8, 3), (9, 2.6), (10, 3.1), (11, 2.4), (12, 2.8), (13, 5.6), (14, 3.7), (15, 2.5)],\n",
    "    \"Llama3-70b-8192\": [(1, 5.7), (2, 2.5), (3, 3.5), (4, 6), (5, 16.4), (6, 14.7), (7, 15.4), (8, 17.7), (9, 13.7), (10, 15.6), (11, 20.3), (12, 14.2), (13, 20.5), (14, 14.1), (15, 15.8)],\n",
    "    \"Llama3-8b-8192\": [(1, 4.7), (2, 2.1), (3, 2.2), (4, 1.9), (5, 2.1), (6, 2.2), (7, 2.1), (8, 1.9), (9, 1.9), (10, 2), (11, 1.9), (12, 1.8), (13, 1.9), (14, 3.1), (15, 4)]\n",
    "}\n",
    "\n",
    "plt.figure(figsize=(10, 8))\n",
    "for i, (model, values) in enumerate(data.items(), start=1):\n",
    "    ax = plt.subplot(2, 2, i)\n",
    "    ax.bar(*zip(*values), width=0.4)\n",
    "    plt.title(model)\n",
    "    plt.xlabel('Attempt')\n",
    "    plt.ylabel('Time')\n",
    "    plt.xticks(range(1, 16))\n",
    "    plt.grid(axis='y')\n",
    "\n",
    "plt.tight_layout()\n",
    "plt.show()"
   ]
  },
  {
   "cell_type": "markdown",
   "id": "66c05586-a7f6-4ea4-a03c-2c6a47d24f0d",
   "metadata": {},
   "source": [
    "\"Llama3-8b-8192\" had the most consistent and lowest runtimes. The Gemma model also had low times, but also rarely followed the formatting request in the prompt."
   ]
  },
  {
   "cell_type": "markdown",
   "id": "f4f3b269-a98b-4e9e-988c-1196ea308a81",
   "metadata": {},
   "source": [
    "<br>"
   ]
  },
  {
   "cell_type": "markdown",
   "id": "6b748348-4c8a-4f61-9115-da5b92fb93f8",
   "metadata": {},
   "source": [
    "### 7 Conclusion"
   ]
  },
  {
   "cell_type": "markdown",
   "id": "e24c1b4a-ac75-4b23-960d-def1d7e5b430",
   "metadata": {},
   "source": [
    "The \"Llama3-8b-8192\" model seemed to work the best for this use case. If this were to be used for business applications, more testing would need to be done before releasing. There would need to be testing on different PDFs with different layouts, and more than 15 runs done to analyze things like runtime. \n",
    "\n",
    "If I submitted multiple prompts in a row too fast I would get an error like this:\n",
    "\n",
    "groq.RateLimitError: Error code: 429 - {'error': {'message': 'Rate limit reached for model `mixtral-8x7b-32768` in organization `org_01hqps0zqyegxajvvw51xp8zyz` on tokens per minute (TPM): Limit 4500, Used 8241, Requested ~3235. Please try again in 1m33.026s. \n",
    "Visit https://console.groq.com/docs/rate-limits for more information.', 'type': 'tokens', 'code': 'rate_limit_exceeded'}}\n",
    "\n",
    "so a business would also probably have to compare pricing for different APIs to get higher rates.\n",
    "\n",
    "The input doesn't just have to be for summaries. It can also be used for asking questions about the text: \"Who are the authors?\" \"Who is the target audience?\" \"What is the papers purpose?\"\n",
    "\n",
    "There are some limitations such as: Rate limits, Not getting all the information because I couldn't use the full PDFs, Missing out on graphs or pictures included in the PDFs for better understanding."
   ]
  }
 ],
 "metadata": {
  "kernelspec": {
   "display_name": "Python 3 (ipykernel)",
   "language": "python",
   "name": "python3"
  },
  "language_info": {
   "codemirror_mode": {
    "name": "ipython",
    "version": 3
   },
   "file_extension": ".py",
   "mimetype": "text/x-python",
   "name": "python",
   "nbconvert_exporter": "python",
   "pygments_lexer": "ipython3",
   "version": "3.11.7"
  }
 },
 "nbformat": 4,
 "nbformat_minor": 5
}
